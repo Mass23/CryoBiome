{
 "cells": [
  {
   "cell_type": "code",
   "execution_count": 1,
   "metadata": {},
   "outputs": [
    {
     "name": "stdout",
     "output_type": "stream",
     "text": [
      "                               Cluster                           data  \\\n",
      "13751     Unassigned_ERR1800786_196895   Unassigned_ERR1800786_196895   \n",
      "13752     Unassigned_ERR1800786_196895   Unassigned_ERR1801634_464726   \n",
      "13753     Unassigned_ERR1800786_196895   Unassigned_ERR1801633_849352   \n",
      "13754     Unassigned_ERR1800786_196895   Unassigned_ERR1801631_423991   \n",
      "13755     Unassigned_ERR1800786_196895    Unassigned_ERR1800786_63189   \n",
      "...                                ...                            ...   \n",
      "41059148  Unassigned_SRR5468106_974102  Unassigned_SRR11602038_232541   \n",
      "41059149  Unassigned_SRR5468106_974102   Unassigned_SRR5468107_720261   \n",
      "41059150  Unassigned_SRR5468106_974102  Unassigned_SRR11602038_572465   \n",
      "41059151  Unassigned_SRR5468106_974102   Unassigned_SRR5468112_477869   \n",
      "41059152  Unassigned_SRR5468106_974102  Unassigned_SRR11582151_773937   \n",
      "\n",
      "                KEGG       Sample      ID  \n",
      "13751     Unassigned   ERR1800786  196895  \n",
      "13752     Unassigned   ERR1801634  464726  \n",
      "13753     Unassigned   ERR1801633  849352  \n",
      "13754     Unassigned   ERR1801631  423991  \n",
      "13755     Unassigned   ERR1800786   63189  \n",
      "...              ...          ...     ...  \n",
      "41059148  Unassigned  SRR11602038  232541  \n",
      "41059149  Unassigned   SRR5468107  720261  \n",
      "41059150  Unassigned  SRR11602038  572465  \n",
      "41059151  Unassigned   SRR5468112  477869  \n",
      "41059152  Unassigned  SRR11582151  773937  \n",
      "\n",
      "[651024 rows x 5 columns]\n"
     ]
    }
   ],
   "source": [
    "import numpy as np\n",
    "import pandas as pd\n",
    "\n",
    "table = pd.read_csv('/Users/mabourqu/Documents/PhD/C1/Data/clusters_linclust.tsv', names = ['Cluster', 'data'], sep='\\t', header=None)\n",
    "# remove singletons\n",
    "table = table.groupby('Cluster').filter(lambda x: len(x) > 29)\n",
    "# split the second column\n",
    "table[['KEGG','Sample','ID']] = table['data'].str.split('_',expand=True,)\n",
    "print(table)"
   ]
  },
  {
   "cell_type": "code",
   "execution_count": 2,
   "metadata": {},
   "outputs": [
    {
     "name": "stdout",
     "output_type": "stream",
     "text": [
      "Unassigned_ERR558441_483978      2685\n",
      "Unassigned_ERR1801633_711637     1209\n",
      "Unassigned_SRR5857944_209854     1192\n",
      "Unassigned_ERR1801633_233683     1155\n",
      "Unassigned_SRR5468517_1627665    1031\n",
      "                                 ... \n",
      "K01653_SRR11582170_396130          30\n",
      "Unassigned_ERR1801633_159218       30\n",
      "K14170_SRR5468108_1146002          30\n",
      "K00789_SRR5468109_1114351          30\n",
      "K01702_ERR1801631_446920           30\n",
      "Name: Cluster, Length: 12140, dtype: int64\n"
     ]
    }
   ],
   "source": [
    "# calculate the cluster sizes\n",
    "cluster_sizes = table['Cluster'].value_counts()\n",
    "print(cluster_sizes)"
   ]
  },
  {
   "cell_type": "code",
   "execution_count": 3,
   "metadata": {},
   "outputs": [],
   "source": [
    "# keep only clusters present in at least two samples and containing at least 30 sequences\n",
    "clusters_to_keep = [cluster for cluster in list(set(table['Cluster'])) if len(set(table[table['Cluster'] == cluster].Sample)) > 1] \n"
   ]
  },
  {
   "cell_type": "code",
   "execution_count": 4,
   "metadata": {},
   "outputs": [
    {
     "name": "stdout",
     "output_type": "stream",
     "text": [
      "12125\n",
      "                               Cluster                           data  \\\n",
      "13751     Unassigned_ERR1800786_196895   Unassigned_ERR1800786_196895   \n",
      "13752     Unassigned_ERR1800786_196895   Unassigned_ERR1801634_464726   \n",
      "13753     Unassigned_ERR1800786_196895   Unassigned_ERR1801633_849352   \n",
      "13754     Unassigned_ERR1800786_196895   Unassigned_ERR1801631_423991   \n",
      "13755     Unassigned_ERR1800786_196895    Unassigned_ERR1800786_63189   \n",
      "...                                ...                            ...   \n",
      "41059148  Unassigned_SRR5468106_974102  Unassigned_SRR11602038_232541   \n",
      "41059149  Unassigned_SRR5468106_974102   Unassigned_SRR5468107_720261   \n",
      "41059150  Unassigned_SRR5468106_974102  Unassigned_SRR11602038_572465   \n",
      "41059151  Unassigned_SRR5468106_974102   Unassigned_SRR5468112_477869   \n",
      "41059152  Unassigned_SRR5468106_974102  Unassigned_SRR11582151_773937   \n",
      "\n",
      "                KEGG       Sample      ID  \n",
      "13751     Unassigned   ERR1800786  196895  \n",
      "13752     Unassigned   ERR1801634  464726  \n",
      "13753     Unassigned   ERR1801633  849352  \n",
      "13754     Unassigned   ERR1801631  423991  \n",
      "13755     Unassigned   ERR1800786   63189  \n",
      "...              ...          ...     ...  \n",
      "41059148  Unassigned  SRR11602038  232541  \n",
      "41059149  Unassigned   SRR5468107  720261  \n",
      "41059150  Unassigned  SRR11602038  572465  \n",
      "41059151  Unassigned   SRR5468112  477869  \n",
      "41059152  Unassigned  SRR11582151  773937  \n",
      "\n",
      "[649907 rows x 5 columns]\n"
     ]
    }
   ],
   "source": [
    "print(len(clusters_to_keep))\n",
    "print(table[table['Cluster'].isin(clusters_to_keep)])"
   ]
  },
  {
   "cell_type": "code",
   "execution_count": 13,
   "metadata": {},
   "outputs": [
    {
     "name": "stdout",
     "output_type": "stream",
     "text": [
      "                               Cluster                           data  \\\n",
      "13751     Unassigned_ERR1800786_196895   Unassigned_ERR1800786_196895   \n",
      "13752     Unassigned_ERR1800786_196895   Unassigned_ERR1801634_464726   \n",
      "13753     Unassigned_ERR1800786_196895   Unassigned_ERR1801633_849352   \n",
      "13754     Unassigned_ERR1800786_196895   Unassigned_ERR1801631_423991   \n",
      "13755     Unassigned_ERR1800786_196895    Unassigned_ERR1800786_63189   \n",
      "...                                ...                            ...   \n",
      "41059148  Unassigned_SRR5468106_974102  Unassigned_SRR11602038_232541   \n",
      "41059149  Unassigned_SRR5468106_974102   Unassigned_SRR5468107_720261   \n",
      "41059150  Unassigned_SRR5468106_974102  Unassigned_SRR11602038_572465   \n",
      "41059151  Unassigned_SRR5468106_974102   Unassigned_SRR5468112_477869   \n",
      "41059152  Unassigned_SRR5468106_974102  Unassigned_SRR11582151_773937   \n",
      "\n",
      "                KEGG       Sample      ID    ClusterID  \n",
      "13751     Unassigned   ERR1800786  196895    Cluster53  \n",
      "13752     Unassigned   ERR1801634  464726    Cluster53  \n",
      "13753     Unassigned   ERR1801633  849352    Cluster53  \n",
      "13754     Unassigned   ERR1801631  423991    Cluster53  \n",
      "13755     Unassigned   ERR1800786   63189    Cluster53  \n",
      "...              ...          ...     ...          ...  \n",
      "41059148  Unassigned  SRR11602038  232541  Cluster7133  \n",
      "41059149  Unassigned   SRR5468107  720261  Cluster7133  \n",
      "41059150  Unassigned  SRR11602038  572465  Cluster7133  \n",
      "41059151  Unassigned   SRR5468112  477869  Cluster7133  \n",
      "41059152  Unassigned  SRR11582151  773937  Cluster7133  \n",
      "\n",
      "[649907 rows x 6 columns]\n"
     ]
    }
   ],
   "source": [
    "out_table = table[table['Cluster'].isin(clusters_to_keep)]\n",
    "out_table = out_table.assign(ClusterID =['Cluster' + str(clusters_to_keep.index(r.Cluster)) for i, r in out_table.iterrows()])\n",
    "print(out_table)"
   ]
  },
  {
   "cell_type": "code",
   "execution_count": 15,
   "metadata": {},
   "outputs": [],
   "source": [
    "out_table.to_csv('clusters_linclust_30seq_2samp.csv')"
   ]
  },
  {
   "cell_type": "code",
   "execution_count": null,
   "metadata": {},
   "outputs": [],
   "source": []
  }
 ],
 "metadata": {
  "kernelspec": {
   "display_name": "Python 3",
   "language": "python",
   "name": "python3"
  },
  "language_info": {
   "codemirror_mode": {
    "name": "ipython",
    "version": 3
   },
   "file_extension": ".py",
   "mimetype": "text/x-python",
   "name": "python",
   "nbconvert_exporter": "python",
   "pygments_lexer": "ipython3",
   "version": "3.8.5"
  }
 },
 "nbformat": 4,
 "nbformat_minor": 4
}
