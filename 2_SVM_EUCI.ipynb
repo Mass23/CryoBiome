{
 "cells": [
  {
   "cell_type": "code",
   "execution_count": 1,
   "metadata": {},
   "outputs": [],
   "source": [
    "import numpy as np\n",
    "import pandas as pd\n",
    "from sklearn.model_selection import cross_validate"
   ]
  },
  {
   "cell_type": "code",
   "execution_count": 2,
   "metadata": {},
   "outputs": [],
   "source": [
    "PP1_metadata = pd.read_csv('Metadata/PP1_metadata.tsv', sep='\\t')\n",
    "PP2_metadata = pd.read_csv('Metadata/PP2_metadata.tsv', sep='\\t')"
   ]
  },
  {
   "cell_type": "markdown",
   "metadata": {},
   "source": [
    "# PP1"
   ]
  },
  {
   "cell_type": "code",
   "execution_count": 3,
   "metadata": {},
   "outputs": [],
   "source": [
    "chunksize = 50000\n",
    "PP1_pres_abs = pd.DataFrame()\n",
    "\n",
    "for PP1_chunk in pd.read_csv('Data/PP1_table.tsv', sep='\\t', chunksize=chunksize):\n",
    "    PP1_chunk[PP1_metadata['Sample'].to_list()] = PP1_chunk[PP1_metadata['Sample'].to_list()].astype(bool).astype(int)\n",
    "    PP1_pres_abs = pd.concat([PP1_pres_abs,PP1_chunk])"
   ]
  },
  {
   "cell_type": "code",
   "execution_count": 4,
   "metadata": {},
   "outputs": [
    {
     "name": "stdout",
     "output_type": "stream",
     "text": [
      "(2997, 561946)\n",
      "(2997,)\n"
     ]
    }
   ],
   "source": [
    "PP1_pres_abs = PP1_pres_abs[PP1_metadata['Sample'].to_list()]\n",
    "PP1_t = PP1_pres_abs.to_numpy()\n",
    "PP1_t = PP1_t.transpose()\n",
    "PP1_labels = np.array([1 if PP1_metadata[PP1_metadata['Sample'] == i]['EUCI'].values == 'Yes' else 0 for i in PP1_pres_abs.columns.to_list()])\n",
    "print(PP1_t.shape)\n",
    "print(PP1_labels.shape)"
   ]
  },
  {
   "cell_type": "code",
   "execution_count": 5,
   "metadata": {},
   "outputs": [
    {
     "data": {
      "text/plain": [
       "['accuracy',\n",
       " 'adjusted_mutual_info_score',\n",
       " 'adjusted_rand_score',\n",
       " 'average_precision',\n",
       " 'balanced_accuracy',\n",
       " 'completeness_score',\n",
       " 'explained_variance',\n",
       " 'f1',\n",
       " 'f1_macro',\n",
       " 'f1_micro',\n",
       " 'f1_samples',\n",
       " 'f1_weighted',\n",
       " 'fowlkes_mallows_score',\n",
       " 'homogeneity_score',\n",
       " 'jaccard',\n",
       " 'jaccard_macro',\n",
       " 'jaccard_micro',\n",
       " 'jaccard_samples',\n",
       " 'jaccard_weighted',\n",
       " 'max_error',\n",
       " 'mutual_info_score',\n",
       " 'neg_brier_score',\n",
       " 'neg_log_loss',\n",
       " 'neg_mean_absolute_error',\n",
       " 'neg_mean_gamma_deviance',\n",
       " 'neg_mean_poisson_deviance',\n",
       " 'neg_mean_squared_error',\n",
       " 'neg_mean_squared_log_error',\n",
       " 'neg_median_absolute_error',\n",
       " 'neg_root_mean_squared_error',\n",
       " 'normalized_mutual_info_score',\n",
       " 'precision',\n",
       " 'precision_macro',\n",
       " 'precision_micro',\n",
       " 'precision_samples',\n",
       " 'precision_weighted',\n",
       " 'r2',\n",
       " 'recall',\n",
       " 'recall_macro',\n",
       " 'recall_micro',\n",
       " 'recall_samples',\n",
       " 'recall_weighted',\n",
       " 'roc_auc',\n",
       " 'roc_auc_ovo',\n",
       " 'roc_auc_ovo_weighted',\n",
       " 'roc_auc_ovr',\n",
       " 'roc_auc_ovr_weighted',\n",
       " 'v_measure_score']"
      ]
     },
     "execution_count": 5,
     "metadata": {},
     "output_type": "execute_result"
    }
   ],
   "source": [
    "import sklearn\n",
    "sorted(sklearn.metrics.SCORERS.keys())"
   ]
  },
  {
   "cell_type": "code",
   "execution_count": 6,
   "metadata": {},
   "outputs": [],
   "source": [
    "from sklearn.svm import LinearSVC\n",
    "from sklearn.utils import shuffle\n",
    "\n",
    "PP1_t, PP1_labels = shuffle(PP1_t, PP1_labels, random_state=23)\n",
    "classifier = LinearSVC(penalty='l2',\n",
    "                       C=0.001,\n",
    "                       tol=1e-4,\n",
    "                       class_weight='balanced',\n",
    "                       random_state=23,\n",
    "                       max_iter=1000)\n",
    "results = cross_validate(classifier, PP1_t, PP1_labels, cv=10, scoring=['balanced_accuracy','roc_auc'], return_estimator=True)"
   ]
  },
  {
   "cell_type": "code",
   "execution_count": 7,
   "metadata": {},
   "outputs": [],
   "source": [
    "def f_importances(coef, names):\n",
    "    imp = coef\n",
    "    imp,names = zip(*sorted(zip(imp,names)))\n",
    "    return([imp,names])\n",
    "\n",
    "features_names = pd.read_csv('Data/PP1_table.tsv',sep = '\\t',header = 0,usecols = [0])['ASV']\n",
    "features_taxa = pd.read_csv('Data/PP1_table.tsv',sep = '\\t',header = 0,usecols = [1])['Taxonomy']"
   ]
  },
  {
   "cell_type": "code",
   "execution_count": 8,
   "metadata": {},
   "outputs": [
    {
     "name": "stdout",
     "output_type": "stream",
     "text": [
      "0         000029d0cc6b7b253e6abae864b50d84\n",
      "1         000059e2f525504982082032361f8241\n",
      "2         00006573055a3b9c309d8b6a113cafd8\n",
      "3         00008931f4546bbfe04dc090f5f6cda7\n",
      "4         0000c01fb9079f95b749bf67a4537a04\n",
      "                        ...               \n",
      "561941    ffff94b458e014a32b5600882aa5ba1f\n",
      "561942    ffffb3a83de6794a0c434dbc67589926\n",
      "561943    ffffb6138c72cb6be38a840ee773fc91\n",
      "561944    ffffc2cb2c1bfe14d04fb5874874b9c6\n",
      "561945    ffffffaa9f19d66d662ad0757523c3b3\n",
      "Name: ASV, Length: 561946, dtype: object\n",
      "0         d__Bacteria; p__Bacteroidota; c__Bacteroidia; ...\n",
      "1         d__Bacteria; p__Patescibacteria; c__Parcubacte...\n",
      "2         d__Bacteria; p__Bacteroidota; c__Bacteroidia; ...\n",
      "3         d__Bacteria; p__Patescibacteria; c__Berkelbact...\n",
      "4         d__Bacteria; p__Acidobacteriota; c__Holophagae...\n",
      "                                ...                        \n",
      "561941    d__Bacteria; p__Acidobacteriota; c__Acidobacte...\n",
      "561942    d__Bacteria; p__Proteobacteria; c__Alphaproteo...\n",
      "561943    d__Bacteria; p__Verrucomicrobiota; c__Verrucom...\n",
      "561944    d__Bacteria; p__Deinococcota; c__Deinococci; o...\n",
      "561945    d__Bacteria; p__Patescibacteria; c__ABY1; o__C...\n",
      "Name: Taxonomy, Length: 561946, dtype: object\n"
     ]
    }
   ],
   "source": [
    "print(features_names)\n",
    "print(features_taxa)"
   ]
  },
  {
   "cell_type": "code",
   "execution_count": 9,
   "metadata": {},
   "outputs": [
    {
     "name": "stdout",
     "output_type": "stream",
     "text": [
      "Mean balanced accuracy: 0.9956521739130434\n",
      "[1.0, 1.0, 1.0, 1.0, 1.0, 1.0, 1.0, 0.9782608695652174, 0.9782608695652174, 1.0]\n"
     ]
    },
    {
     "data": {
      "image/png": "[encoded data removed]",
      "text/plain": [
       "<Figure size 432x288 with 1 Axes>"
      ]
     },
     "metadata": {
      "needs_background": "light"
     },
     "output_type": "display_data"
    }
   ],
   "source": [
    "from sklearn.svm import LinearSVC\n",
    "from sklearn.utils import shuffle\n",
    "from sklearn.metrics import balanced_accuracy_score\n",
    "from sklearn.metrics import plot_roc_curve\n",
    "from sklearn.metrics import auc\n",
    "from sklearn.model_selection import StratifiedKFold\n",
    "import matplotlib.pyplot as plt\n",
    "\n",
    "cv = StratifiedKFold(n_splits=10)\n",
    "PP1_t, PP1_labels = shuffle(PP1_t, PP1_labels, random_state=23)\n",
    "classifier = LinearSVC(penalty='l2',\n",
    "                       C=0.001,\n",
    "                       tol=1e-4,\n",
    "                       class_weight='balanced',\n",
    "                       random_state=23,\n",
    "                       max_iter=1000)\n",
    "\n",
    "tprs = []\n",
    "aucs = []\n",
    "mean_fpr = np.linspace(0, 1, 100)\n",
    "\n",
    "bal_acc_list = []\n",
    "feature_imp_list = []\n",
    "\n",
    "fig, ax = plt.subplots()\n",
    "for i, (train, test) in enumerate(cv.split(PP1_t, PP1_labels)):\n",
    "    # Train\n",
    "    classifier.fit(PP1_t[train], PP1_labels[train])\n",
    "    \n",
    "    # Get balanced accuracy\n",
    "    balanced_accuracy = balanced_accuracy_score(PP1_labels[test], classifier.predict(PP1_t[test]))\n",
    "    bal_acc_list.append(balanced_accuracy)\n",
    "    \n",
    "    # Get Importance\n",
    "    feat_imp = f_importances(classifier.coef_, features_names)\n",
    "    feature_imp_list.append(feat_imp)\n",
    "    \n",
    "    # Get ROC curve\n",
    "    viz = plot_roc_curve(classifier, PP1_t[test], PP1_labels[test],\n",
    "                         color='black',\n",
    "                         alpha=0.2, lw=1, ax=ax)\n",
    "    interp_tpr = np.interp(mean_fpr, viz.fpr, viz.tpr)\n",
    "    interp_tpr[0] = 0.0\n",
    "    tprs.append(interp_tpr)\n",
    "    aucs.append(viz.roc_auc)\n",
    "\n",
    "mean_tpr = np.mean(tprs, axis=0)\n",
    "mean_tpr[-1] = 1.0\n",
    "mean_auc = auc(mean_fpr, mean_tpr)\n",
    "std_auc = np.std(aucs)\n",
    "ax.plot(mean_fpr, mean_tpr, color='b',\n",
    "        label=r'Mean ROC (AUC = %0.2f $\\pm$ %0.2f)' % (mean_auc, std_auc),\n",
    "        lw=2, alpha=.8)\n",
    "ax.get_legend().remove()\n",
    "plt.savefig('2_SVM_EUCI/PP1_roc.pdf')\n",
    "    \n",
    "print('Mean balanced accuracy: ' + str(np.mean(bal_acc_list)))\n",
    "print(bal_acc_list)\n",
    "    \n"
   ]
  },
  {
   "cell_type": "code",
   "execution_count": 10,
   "metadata": {},
   "outputs": [
    {
     "name": "stdout",
     "output_type": "stream",
     "text": [
      "                                     ASV  \\\n",
      "0       000029d0cc6b7b253e6abae864b50d84   \n",
      "1       000059e2f525504982082032361f8241   \n",
      "2       00006573055a3b9c309d8b6a113cafd8   \n",
      "3       00008931f4546bbfe04dc090f5f6cda7   \n",
      "4       0000c01fb9079f95b749bf67a4537a04   \n",
      "...                                  ...   \n",
      "561941  ffff94b458e014a32b5600882aa5ba1f   \n",
      "561942  ffffb3a83de6794a0c434dbc67589926   \n",
      "561943  ffffb6138c72cb6be38a840ee773fc91   \n",
      "561944  ffffc2cb2c1bfe14d04fb5874874b9c6   \n",
      "561945  ffffffaa9f19d66d662ad0757523c3b3   \n",
      "\n",
      "                                                 Taxonomy  Importance  \n",
      "0       d__Bacteria; p__Bacteroidota; c__Bacteroidia; ...   -0.000051  \n",
      "1       d__Bacteria; p__Patescibacteria; c__Parcubacte...    0.000000  \n",
      "2       d__Bacteria; p__Bacteroidota; c__Bacteroidia; ...    0.000000  \n",
      "3       d__Bacteria; p__Patescibacteria; c__Berkelbact...   -0.000263  \n",
      "4       d__Bacteria; p__Acidobacteriota; c__Holophagae...    0.000000  \n",
      "...                                                   ...         ...  \n",
      "561941  d__Bacteria; p__Acidobacteriota; c__Acidobacte...    0.000000  \n",
      "561942  d__Bacteria; p__Proteobacteria; c__Alphaproteo...   -0.000170  \n",
      "561943  d__Bacteria; p__Verrucomicrobiota; c__Verrucom...    0.000062  \n",
      "561944  d__Bacteria; p__Deinococcota; c__Deinococci; o...   -0.000160  \n",
      "561945  d__Bacteria; p__Patescibacteria; c__ABY1; o__C...   -0.000059  \n",
      "\n",
      "[561946 rows x 3 columns]\n"
     ]
    },
    {
     "data": {
      "image/png": "[encoded data removed]",
      "text/plain": [
       "<Figure size 360x360 with 1 Axes>"
      ]
     },
     "metadata": {
      "needs_background": "light"
     },
     "output_type": "display_data"
    }
   ],
   "source": [
    "import seaborn as sns\n",
    "\n",
    "feature_importance = np.array([np.array(i[0]) for i in feature_imp_list])\n",
    "feature_importance_means = np.mean(feature_importance, axis=0)\n",
    "\n",
    "importance_df = pd.DataFrame({'ASV':features_names,'Taxonomy':features_taxa,'Importance':feature_importance_means[0]})\n",
    "print(importance_df)"
   ]
  },
  {
   "cell_type": "code",
   "execution_count": 18,
   "metadata": {},
   "outputs": [
    {
     "data": {
      "image/png": "[encoded data removed]",
      "text/plain": [
       "<Figure size 432x288 with 1 Axes>"
      ]
     },
     "metadata": {
      "needs_background": "light"
     },
     "output_type": "display_data"
    }
   ],
   "source": [
    "non_null_df = importance_df[importance_df[\"Importance\"] > 0]\n",
    "plt.hist(non_null_df[\"Importance\"],bins=100)\n",
    "plt.show()\n",
    "plt.close()"
   ]
  },
  {
   "cell_type": "markdown",
   "metadata": {},
   "source": []
  },
  {
   "cell_type": "code",
   "execution_count": 47,
   "metadata": {},
   "outputs": [
    {
     "name": "stdout",
     "output_type": "stream",
     "text": [
      "48636\n",
      "56494\n",
      "0.8609055828937586\n",
      "-7858\n",
      "4312\n",
      "967\n",
      "d__Bacteria; p__Proteobacteria; c__Gammaproteobacteria; o__Burkholderiales; f__Comamonadaceae          645\n",
      "d__Bacteria; p__Proteobacteria; c__Alphaproteobacteria; o__Acetobacterales; f__Acetobacteraceae        414\n",
      "d__Bacteria; p__Actinobacteriota; c__Actinobacteria; o__Micrococcales; f__Microbacteriaceae            321\n",
      "d__Bacteria; p__Proteobacteria; c__Alphaproteobacteria; o__Sphingomonadales; f__Sphingomonadaceae      287\n",
      "d__Bacteria; p__Proteobacteria; c__Alphaproteobacteria; o__Rhodobacterales; f__Rhodobacteraceae        193\n",
      "                                                                                                      ... \n",
      "d__Bacteria; p__Actinobacteriota; c__Actinobacteria; o__Streptosporangiales; f__Thermomonosporaceae      1\n",
      "d__Bacteria; p__Proteobacteria; c__Gammaproteobacteria; o__Burkholderiales; f__Sulfuricellaceae          1\n",
      "d__Bacteria; p__Firmicutes; c__Thermacetogenia; o__Thermacetogeniales; f__Thermacetogeniaceae            1\n",
      "d__Bacteria; p__Fibrobacterota; c__Fibrobacteria; o__Fibrobacterales; f__Fibrobacteraceae                1\n",
      "d__Bacteria; p__Bacteroidota; c__Bacteroidia; o__Flavobacteriales; f__Crocinitomicaceae                  1\n",
      "Name: Taxonomy, Length: 145, dtype: int64\n",
      "d__Bacteria; p__Proteobacteria; c__Gammaproteobacteria; o__Burkholderiales           158\n",
      "d__Bacteria; p__Patescibacteria; c__Saccharimonadia; o__Saccharimonadales            130\n",
      "d__Bacteria; p__Actinobacteriota; c__Actinobacteria; o__Micrococcales                 92\n",
      "d__Bacteria; p__Actinobacteriota; c__Actinobacteria; o__Frankiales                    79\n",
      "d__Bacteria; p__Proteobacteria; c__Alphaproteobacteria; o__Rhizobiales                43\n",
      "d__Bacteria; p__Actinobacteriota; c__Acidimicrobiia; o__Microtrichales                42\n",
      "d__Bacteria; p__Firmicutes; c__Bacilli; o__Bacillales                                 39\n",
      "d__Bacteria; p__Bacteroidota; c__Bacteroidia; o__Cytophagales                         36\n",
      "d__Bacteria; p__Actinobacteriota; c__Thermoleophilia; o__Solirubrobacterales          35\n",
      "d__Bacteria; p__Dependentiae; c__Babeliae; o__Babeliales                              33\n",
      "d__Bacteria; p__Verrucomicrobiota; c__Chlamydiae; o__Chlamydiales                     25\n",
      "d__Bacteria; p__Firmicutes; c__Bacilli; o__Lactobacillales                            24\n",
      "d__Bacteria; p__Actinobacteriota; c__Thermoleophilia; o__Gaiellales                   23\n",
      "d__Bacteria; p__Bacteroidota; c__Bacteroidia; o__Chitinophagales                      22\n",
      "d__Bacteria; p__Actinobacteriota; c__Actinobacteria; o__Corynebacteriales             20\n",
      "d__Bacteria; p__Acidobacteriota; c__Acidobacteriae; o__Acidobacteriales               19\n",
      "d__Bacteria; p__Cyanobacteria; c__Cyanobacteriia; o__Cyanobacteriales                 18\n",
      "d__Bacteria; p__Bacteroidota; c__Bacteroidia; o__Sphingobacteriales                   18\n",
      "d__Bacteria; p__Proteobacteria; c__Gammaproteobacteria; o__Enterobacterales           10\n",
      "d__Bacteria; p__Proteobacteria; c__Alphaproteobacteria; o__Rickettsiales              10\n",
      "d__Bacteria; p__Verrucomicrobiota; c__Verrucomicrobiae; o__Chthoniobacterales          9\n",
      "d__Bacteria; p__Myxococcota; c__Polyangia; o__Polyangiales                             8\n",
      "d__Bacteria; p__Firmicutes; c__Clostridia; o__Clostridiales                            7\n",
      "d__Bacteria; p__Firmicutes; c__Clostridia; o__Peptostreptococcales-Tissierellales      7\n",
      "d__Bacteria; p__Bacteroidota; c__Bacteroidia; o__Flavobacteriales                      6\n",
      "d__Bacteria; p__Proteobacteria; c__Gammaproteobacteria; o__Xanthomonadales             6\n",
      "d__Bacteria; p__Bacteroidota; c__Bacteroidia; o__Bacteroidales                         5\n",
      "d__Bacteria; p__Acidobacteriota; c__Vicinamibacteria; o__Vicinamibacterales            5\n",
      "d__Bacteria; p__Proteobacteria; c__Alphaproteobacteria; o__SAR11_clade                 5\n",
      "d__Bacteria; p__Proteobacteria; c__Alphaproteobacteria; o__Micavibrionales             3\n",
      "d__Bacteria; p__Myxococcota; c__Myxococcia; o__Myxococcales                            3\n",
      "d__Bacteria; p__Proteobacteria; c__Gammaproteobacteria; o__Alteromonadales             3\n",
      "d__Bacteria; p__Proteobacteria; c__Alphaproteobacteria; o__Elsterales                  3\n",
      "d__Bacteria; p__Bacteroidota; c__Ignavibacteria; o__Ignavibacteriales                  3\n",
      "d__Bacteria; p__Proteobacteria; c__Gammaproteobacteria; o__Pseudomonadales             2\n",
      "d__Bacteria; p__Desulfobacterota; c__Desulfuromonadia; o__Geobacterales                2\n",
      "d__Bacteria; p__Armatimonadota; c__Armatimonadia; o__Armatimonadales                   2\n",
      "d__Bacteria; p__Planctomycetota; c__Planctomycetes; o__Planctomycetales                2\n",
      "d__Bacteria; p__Desulfobacterota; c__Desulfuromonadia; o__Bradymonadales               1\n",
      "d__Bacteria; p__Desulfobacterota; c__Desulfobulbia; o__Desulfobulbales                 1\n",
      "d__Bacteria; p__Actinobacteriota; c__Actinobacteria; o__Propionibacteriales            1\n",
      "d__Bacteria; p__Firmicutes; c__Desulfitobacteriia; o__Desulfitobacteriales             1\n",
      "d__Bacteria; p__Armatimonadota; c__Fimbriimonadia; o__Fimbriimonadales                 1\n",
      "d__Bacteria; p__Firmicutes; c__Clostridia; o__Lachnospirales                           1\n",
      "d__Bacteria; p__Planctomycetota; c__Phycisphaerae; o__Tepidisphaerales                 1\n",
      "d__Bacteria; p__Actinobacteriota; c__Coriobacteriia; o__Coriobacteriales               1\n",
      "d__Bacteria; p__Deinococcota; c__Deinococci; o__Deinococcales                          1\n",
      "d__Bacteria; p__Proteobacteria; c__Alphaproteobacteria; o__Rhodospirillales            1\n",
      "Name: Taxonomy, dtype: int64\n"
     ]
    }
   ],
   "source": [
    "print(len(non_null_df[non_null_df['Taxonomy'].str.contains(\"; g__\")]))\n",
    "print(len(non_null_df['Taxonomy']))\n",
    "print(len(non_null_df[non_null_df['Taxonomy'].str.contains(\"; g__\")]) / len(non_null_df['Taxonomy']))\n",
    "print(len(non_null_df[non_null_df['Taxonomy'].str.contains(\"; g__\")]) - len(non_null_df['Taxonomy']))\n",
    "\n",
    "pos_df_no_genus = non_null_df[non_null_df['Taxonomy'].str.contains(\"; g__\") == False]\n",
    "print(len(pos_df_no_genus[pos_df_no_genus['Taxonomy'].str.contains(\"; f__\")]))\n",
    "\n",
    "pos_df_family = pos_df_no_genus[pos_df_no_genus['Taxonomy'].str.contains(\"; f__\")]\n",
    "pos_df_order = pos_df_no_genus[~pos_df_no_genus['Taxonomy'].str.contains(\"; f__\")]\n",
    "pos_df_order = pos_df_order[pos_df_order['Taxonomy'].str.contains(\"; o__\")]\n",
    "print(len(pos_df_order))\n",
    "\n",
    "family_counts = pos_df_family['Taxonomy'].value_counts()\n",
    "order_counts = pos_df_order['Taxonomy'].value_counts()\n",
    "\n",
    "family_counts.to_csv('2_SVM_EUCI/PP1_no_genus_family_counts.csv')\n",
    "order_counts.to_csv('2_SVM_EUCI/PP1_no_genus_No_family_order_counts.csv')\n",
    "print(family_counts)\n",
    "print(order_counts)\n"
   ]
  },
  {
   "cell_type": "markdown",
   "metadata": {},
   "source": [
    "Mean: 99.565% balanced acccuracy\n",
    "- [1.0, 1.0, 1.0, 1.0, 1.0, 1.0, 1.0, 0.9782608695652174, 0.9782608695652174, 1.0]\n"
   ]
  },
  {
   "cell_type": "markdown",
   "metadata": {},
   "source": [
    "# PP2"
   ]
  },
  {
   "cell_type": "code",
   "execution_count": 48,
   "metadata": {},
   "outputs": [],
   "source": [
    "chunksize = 50000\n",
    "PP2_pres_abs = pd.DataFrame()\n",
    "\n",
    "for PP2_chunk in pd.read_csv('Data/PP2_table.tsv', sep='\\t', chunksize=chunksize):\n",
    "    PP2_chunk[PP2_metadata['Sample'].to_list()] = PP2_chunk[PP2_metadata['Sample'].to_list()].astype(bool).astype(int)\n",
    "    PP2_pres_abs = pd.concat([PP2_pres_abs,PP2_chunk])"
   ]
  },
  {
   "cell_type": "code",
   "execution_count": 49,
   "metadata": {},
   "outputs": [
    {
     "name": "stdout",
     "output_type": "stream",
     "text": [
      "(1929, 488610)\n",
      "(1929,)\n"
     ]
    }
   ],
   "source": [
    "PP2_pres_abs = PP2_pres_abs[PP2_metadata['Sample'].to_list()]\n",
    "PP2_t = PP2_pres_abs.to_numpy()\n",
    "PP2_t = PP2_t.transpose()\n",
    "PP2_labels = np.array([1 if PP2_metadata[PP2_metadata['Sample'] == i]['EUCI'].values == 'Yes' else 0 for i in PP2_pres_abs.columns.to_list()])\n",
    "print(PP2_t.shape)\n",
    "print(PP2_labels.shape)"
   ]
  },
  {
   "cell_type": "code",
   "execution_count": 53,
   "metadata": {},
   "outputs": [
    {
     "name": "stdout",
     "output_type": "stream",
     "text": [
      "Mean balanced accuracy: 0.9913024469360412\n",
      "[0.96359918200409, 1.0, 1.0, 1.0, 1.0, 1.0, 0.9833333333333334, 0.9833333333333334, 1.0, 0.9827586206896552]\n"
     ]
    },
    {
     "data": {
      "image/png": "[encoded data removed]",
      "text/plain": [
       "<Figure size 432x288 with 1 Axes>"
      ]
     },
     "metadata": {
      "needs_background": "light"
     },
     "output_type": "display_data"
    }
   ],
   "source": [
    "from sklearn.svm import LinearSVC\n",
    "from sklearn.utils import shuffle\n",
    "\n",
    "def f_importances(coef, names):\n",
    "    imp = coef\n",
    "    imp,names = zip(*sorted(zip(imp,names)))\n",
    "    return([imp,names])\n",
    "\n",
    "features_names = pd.read_csv('Data/PP2_table.tsv',sep = '\\t',header = 0,usecols = [0])['ASV']\n",
    "features_taxa = pd.read_csv('Data/PP2_table.tsv',sep = '\\t',header = 0,usecols = [1])['Taxonomy']\n",
    "\n",
    "cv = StratifiedKFold(n_splits=10)\n",
    "PP2_t, PP2_labels = shuffle(PP2_t, PP2_labels, random_state=23)\n",
    "classifier = LinearSVC(penalty='l2',\n",
    "                       C=0.001,\n",
    "                       tol=1e-4,\n",
    "                       class_weight='balanced',\n",
    "                       random_state=23,\n",
    "                       max_iter=1000)\n",
    "\n",
    "tprs = []\n",
    "aucs = []\n",
    "mean_fpr = np.linspace(0, 1, 100)\n",
    "\n",
    "bal_acc_list = []\n",
    "feature_imp_list = []\n",
    "\n",
    "fig, ax = plt.subplots()\n",
    "for i, (train, test) in enumerate(cv.split(PP2_t, PP2_labels)):\n",
    "    # Train\n",
    "    classifier.fit(PP2_t[train], PP2_labels[train])\n",
    "    \n",
    "    # Get balanced accuracy\n",
    "    balanced_accuracy = balanced_accuracy_score(PP2_labels[test], classifier.predict(PP2_t[test]))\n",
    "    bal_acc_list.append(balanced_accuracy)\n",
    "    \n",
    "    # Get Importance\n",
    "    feat_imp = f_importances(classifier.coef_, features_names)\n",
    "    feature_imp_list.append(feat_imp)\n",
    "    \n",
    "    # Get ROC curve\n",
    "    viz = plot_roc_curve(classifier, PP2_t[test], PP2_labels[test],\n",
    "                         color='black',\n",
    "                         alpha=0.2, lw=1, ax=ax)\n",
    "    interp_tpr = np.interp(mean_fpr, viz.fpr, viz.tpr)\n",
    "    interp_tpr[0] = 0.0\n",
    "    tprs.append(interp_tpr)\n",
    "    aucs.append(viz.roc_auc)\n",
    "\n",
    "mean_tpr = np.mean(tprs, axis=0)\n",
    "mean_tpr[-1] = 1.0\n",
    "mean_auc = auc(mean_fpr, mean_tpr)\n",
    "std_auc = np.std(aucs)\n",
    "ax.plot(mean_fpr, mean_tpr, color='r',\n",
    "        label=r'Mean ROC (AUC = %0.2f $\\pm$ %0.2f)' % (mean_auc, std_auc),\n",
    "        lw=2, alpha=.8)\n",
    "ax.get_legend().remove()\n",
    "plt.savefig('2_SVM_EUCI/PP2_roc.pdf')\n",
    "    \n",
    "print('Mean balanced accuracy: ' + str(np.mean(bal_acc_list)))\n",
    "print(bal_acc_list)"
   ]
  },
  {
   "cell_type": "markdown",
   "metadata": {},
   "source": [
    "Mean: 99.130% balanced accuracy\n",
    "- [0.96359918200409, 1.0, 1.0, 1.0, 1.0, 1.0, 0.9833333333333334, 0.9833333333333334, 1.0, 0.9827586206896552]"
   ]
  },
  {
   "cell_type": "code",
   "execution_count": 57,
   "metadata": {},
   "outputs": [
    {
     "name": "stdout",
     "output_type": "stream",
     "text": [
      "                                     ASV  \\\n",
      "0       00000fd81254be225d7c3d5014203af1   \n",
      "1       00001f68d7df7ff09fd006ed75c7a3d1   \n",
      "2       0000475b997f9ce5f195f53945ff2415   \n",
      "3       0000623ae3775648f959afd6a94ad25a   \n",
      "4       000075dcd27d07a9478887ada062783e   \n",
      "...                                  ...   \n",
      "488605  ffff6a9757b10e7bdfb70a66d2745e02   \n",
      "488606  ffffb2e973b5618be5ec1b2b5e393fef   \n",
      "488607  ffffcaf27611ae4625ca460fe5a943be   \n",
      "488608  fffff096390ac0a68d6aeff2713794b9   \n",
      "488609  fffff2a2e535e0105afb2113a8e1ee4c   \n",
      "\n",
      "                                                 Taxonomy  Importance  \n",
      "0                                             d__Bacteria   -0.000082  \n",
      "1                                             d__Bacteria   -0.000231  \n",
      "2       d__Bacteria; p__Proteobacteria; c__Gammaproteo...   -0.000404  \n",
      "3                                             d__Bacteria    0.000000  \n",
      "4                                             d__Bacteria   -0.000216  \n",
      "...                                                   ...         ...  \n",
      "488605  d__Bacteria; p__Firmicutes; c__Clostridia; o__...    0.000000  \n",
      "488606  d__Bacteria; p__Campilobacterota; c__Campyloba...   -0.000297  \n",
      "488607  d__Bacteria; p__Planctomycetota; c__vadinHA49;...   -0.000869  \n",
      "488608                                        d__Bacteria   -0.000047  \n",
      "488609  d__Bacteria; p__Bacteroidota; c__Bacteroidia; ...   -0.000126  \n",
      "\n",
      "[488610 rows x 3 columns]\n",
      "51451\n",
      "62272\n",
      "0.8262300873586845\n",
      "-10821\n",
      "2980\n",
      "968\n",
      "d__Bacteria; p__Proteobacteria; c__Gammaproteobacteria; o__Burkholderiales; f__Comamonadaceae           277\n",
      "d__Bacteria; p__Proteobacteria; c__Alphaproteobacteria; o__Rhodobacterales; f__Rhodobacteraceae         219\n",
      "d__Bacteria; p__Verrucomicrobiota; c__Verrucomicrobiae; o__Pedosphaerales; f__Pedosphaeraceae           111\n",
      "d__Bacteria; p__Proteobacteria; c__Gammaproteobacteria; o__Cellvibrionales; f__Halieaceae               106\n",
      "d__Bacteria; p__Bacteroidota; c__Bacteroidia; o__Flavobacteriales; f__Flavobacteriaceae                  94\n",
      "                                                                                                       ... \n",
      "d__Bacteria; p__Desulfobacterota; c__Desulfobulbia; o__Desulfobulbales; f__Desulfurivibrionaceae          1\n",
      "d__Bacteria; p__Fusobacteriota; c__Fusobacteriia; o__Fusobacteriales; f__Fusobacteriaceae                 1\n",
      "d__Bacteria; p__Bacteroidota; c__Bacteroidia; o__Cytophagales; f__Cytophagaceae                           1\n",
      "d__Bacteria; p__Desulfobacterota; c__Desulfovibrionia; o__Desulfovibrionales; f__Desulfovibrionaceae      1\n",
      "d__Bacteria; p__Proteobacteria; c__Gammaproteobacteria; o__Aeromonadales; f__Succinivibrionaceae          1\n",
      "Name: Taxonomy, Length: 189, dtype: int64\n",
      "d__Bacteria; p__Bacteroidota; c__Bacteroidia; o__Bacteroidales                97\n",
      "d__Bacteria; p__Verrucomicrobiota; c__Chlamydiae; o__Chlamydiales             88\n",
      "d__Bacteria; p__Proteobacteria; c__Gammaproteobacteria; o__Burkholderiales    59\n",
      "d__Bacteria; p__Bacteroidota; c__Bacteroidia; o__Cytophagales                 57\n",
      "d__Bacteria; p__Bacteroidota; c__Bacteroidia; o__Sphingobacteriales           52\n",
      "                                                                              ..\n",
      "d__Bacteria; p__Proteobacteria; c__Gammaproteobacteria; o__Methylococcales     1\n",
      "d__Bacteria; p__Verrucomicrobiota; c__Verrucomicrobiae; o__Opitutales          1\n",
      "d__Bacteria; p__Actinobacteriota; c__Acidimicrobiia; o__Actinomarinales        1\n",
      "d__Bacteria; p__Proteobacteria; c__Alphaproteobacteria; o__Elsterales          1\n",
      "d__Bacteria; p__Firmicutes; c__Bacilli; o__Izemoplasmatales                    1\n",
      "Name: Taxonomy, Length: 63, dtype: int64\n"
     ]
    }
   ],
   "source": [
    "import seaborn as sns\n",
    "\n",
    "feature_importance = np.array([np.array(i[0]) for i in feature_imp_list])\n",
    "feature_importance_means = np.mean(feature_importance, axis=0)\n",
    "\n",
    "importance_df = pd.DataFrame({'ASV':features_names,'Taxonomy':features_taxa,'Importance':feature_importance_means[0]})\n",
    "print(importance_df)\n",
    "\n",
    "non_null_df = importance_df[importance_df['Importance'] > 0]\n",
    "print(len(non_null_df[non_null_df['Taxonomy'].str.contains(\"; g__\")]))\n",
    "print(len(non_null_df['Taxonomy']))\n",
    "print(len(non_null_df[non_null_df['Taxonomy'].str.contains(\"; g__\")]) / len(non_null_df['Taxonomy']))\n",
    "print(len(non_null_df[non_null_df['Taxonomy'].str.contains(\"; g__\")]) - len(non_null_df['Taxonomy']))\n",
    "\n",
    "pos_df_no_genus = non_null_df[non_null_df['Taxonomy'].str.contains(\"; g__\") == False]\n",
    "print(len(pos_df_no_genus[pos_df_no_genus['Taxonomy'].str.contains(\"; f__\")]))\n",
    "\n",
    "pos_df_family = pos_df_no_genus[pos_df_no_genus['Taxonomy'].str.contains(\"; f__\")]\n",
    "pos_df_order = pos_df_no_genus[~pos_df_no_genus['Taxonomy'].str.contains(\"; f__\")]\n",
    "pos_df_order = pos_df_order[pos_df_order['Taxonomy'].str.contains(\"; o__\")]\n",
    "print(len(pos_df_order))\n",
    "\n",
    "family_counts = pos_df_family['Taxonomy'].value_counts()\n",
    "order_counts = pos_df_order['Taxonomy'].value_counts()\n",
    "\n",
    "family_counts.to_csv('2_SVM_EUCI/PP2_no_genus_family_counts.csv')\n",
    "order_counts.to_csv('2_SVM_EUCI/PP2_no_genus_No_family_order_counts.csv')\n",
    "print(family_counts)\n",
    "print(order_counts)"
   ]
  },
  {
   "cell_type": "code",
   "execution_count": null,
   "metadata": {},
   "outputs": [],
   "source": []
  }
 ],
 "metadata": {
  "kernelspec": {
   "display_name": "Python 3",
   "language": "python",
   "name": "python3"
  },
  "language_info": {
   "codemirror_mode": {
    "name": "ipython",
    "version": 3
   },
   "file_extension": ".py",
   "mimetype": "text/x-python",
   "name": "python",
   "nbconvert_exporter": "python",
   "pygments_lexer": "ipython3",
   "version": "3.7.8"
  }
 },
 "nbformat": 4,
 "nbformat_minor": 4
}
